{
 "cells": [
  {
   "cell_type": "code",
   "execution_count": null,
   "metadata": {},
   "outputs": [],
   "source": [
    "import pandas as pd\n",
    "import numpy as np\n",
    "import matplotlib.pyplot as plt\n",
    "import seaborn as sns\n",
    "from sklearn.model_selection import train_test_split, GridSearchCV\n",
    "from sklearn.preprocessing import StandardScaler\n",
    "from sklearn.metrics import confusion_matrix, classification_report, mean_squared_error, r2_score\n",
    "from sklearn.neighbors import KNeighborsClassifier\n",
    "\n",
    "# Load dataset\n",
    "df = pd.read_excel(\"Dataset.xlsx\", sheet_name=\"Dataset\")\n",
    "\n",
    "# Selecting features and target variable\n",
    "features = ['person_age', 'person_income']  # Selecting two numerical features for simplicity\n",
    "target = 'loan_status'\n",
    "X = df[features]\n",
    "y = df[target]\n",
    "\n",
    "# Splitting data\n",
    "X_train, X_test, y_train, y_test = train_test_split(X, y, test_size=0.2, random_state=42, stratify=y)\n",
    "\n",
    "# Scaling the data\n",
    "scaler = StandardScaler()\n",
    "X_train = scaler.fit_transform(X_train)\n",
    "X_test = scaler.transform(X_test)"
   ]
  },
  {
   "cell_type": "code",
   "execution_count": null,
   "metadata": {},
   "outputs": [],
   "source": [
    "# A1: Confusion Matrix and Performance Metrics\n",
    "knn = KNeighborsClassifier(n_neighbors=3)\n",
    "knn.fit(X_train, y_train)\n",
    "y_pred_test = knn.predict(X_test)\n",
    "conf_matrix = confusion_matrix(y_test, y_pred_test)\n",
    "print(\"Confusion Matrix:\\n\", conf_matrix)\n",
    "print(\"Classification Report:\\n\", classification_report(y_test, y_pred_test))\n"
   ]
  },
  {
   "cell_type": "code",
   "execution_count": null,
   "metadata": {},
   "outputs": [],
   "source": [
    "# A2: Regression Metrics (assuming a previous price prediction task)\n",
    "y_actual = np.random.rand(len(y_test)) * 100  # Placeholder values\n",
    "y_pred = y_actual + np.random.normal(0, 10, len(y_test))\n",
    "\n",
    "mse = mean_squared_error(y_actual, y_pred)\n",
    "rmse = np.sqrt(mse)\n",
    "mape = np.mean(np.abs((y_actual - y_pred) / y_actual)) * 100\n",
    "r2 = r2_score(y_actual, y_pred)\n",
    "\n",
    "print(\"MSE:\", mse)\n",
    "print(\"RMSE:\", rmse)\n",
    "print(\"MAPE:\", mape)\n",
    "print(\"R2 Score:\", r2)"
   ]
  },
  {
   "cell_type": "code",
   "execution_count": null,
   "metadata": {},
   "outputs": [],
   "source": [
    "# A3: Generate and visualize training data for kNN\n",
    "np.random.seed(42)\n",
    "X_train_knn = np.random.uniform(1, 10, (20, 2))\n",
    "y_train_knn = np.random.choice([0, 1], 20)\n",
    "\n",
    "plt.figure(figsize=(8, 6))\n",
    "plt.scatter(X_train_knn[:, 0], X_train_knn[:, 1], c=y_train_knn, cmap='bwr', edgecolors='k')\n",
    "plt.xlabel(\"Feature X\")\n",
    "plt.ylabel(\"Feature Y\")\n",
    "plt.title(\"Training Data\")\n",
    "plt.show()"
   ]
  },
  {
   "cell_type": "code",
   "execution_count": null,
   "metadata": {},
   "outputs": [],
   "source": [
    "# A4: Generate and classify test data using kNN\n",
    "test_points = np.array([[x, y] for x in np.arange(0, 10, 0.1) for y in np.arange(0, 10, 0.1)])\n",
    "preds = knn.predict(test_points)\n",
    "\n",
    "plt.figure(figsize=(8, 6))\n",
    "plt.scatter(test_points[:, 0], test_points[:, 1], c=preds, cmap='bwr', alpha=0.5, edgecolors='k')\n",
    "plt.xlabel(\"Feature X\")\n",
    "plt.ylabel(\"Feature Y\")\n",
    "plt.title(\"Test Data Classification\")\n",
    "plt.show()"
   ]
  },
  {
   "cell_type": "code",
   "execution_count": null,
   "metadata": {},
   "outputs": [],
   "source": [
    "# A5: Repeat A4 for multiple k values\n",
    "for k in [1, 5, 10]:\n",
    "    knn_k = KNeighborsClassifier(n_neighbors=k)\n",
    "    knn_k.fit(X_train_knn, y_train_knn)\n",
    "    preds_k = knn_k.predict(test_points)\n",
    "    plt.figure(figsize=(8, 6))\n",
    "    plt.scatter(test_points[:, 0], test_points[:, 1], c=preds_k, cmap='bwr', alpha=0.5, edgecolors='k')\n",
    "    plt.xlabel(\"Feature X\")\n",
    "    plt.ylabel(\"Feature Y\")\n",
    "    plt.title(f\"Test Data Classification (k={k})\")\n",
    "    plt.show()"
   ]
  },
  {
   "cell_type": "code",
   "execution_count": null,
   "metadata": {},
   "outputs": [],
   "source": [
    "# A6: Repeat for real project data\n",
    "knn_real = KNeighborsClassifier(n_neighbors=3)\n",
    "knn_real.fit(X_train, y_train)\n",
    "y_project_pred = knn_real.predict(X_test)\n",
    "print(\"Project Data Classification Report:\\n\", classification_report(y_test, y_project_pred))\n"
   ]
  },
  {
   "cell_type": "code",
   "execution_count": null,
   "metadata": {},
   "outputs": [],
   "source": [
    "# A7: Hyperparameter tuning\n",
    "param_grid = {'n_neighbors': range(1, 20)}\n",
    "grid_search = GridSearchCV(KNeighborsClassifier(), param_grid, cv=5, scoring='accuracy')\n",
    "grid_search.fit(X_train, y_train)\n",
    "print(\"Best k value:\", grid_search.best_params_['n_neighbors'])"
   ]
  }
 ],
 "metadata": {
  "kernelspec": {
   "display_name": "Python 3",
   "language": "python",
   "name": "python3"
  },
  "language_info": {
   "name": "python",
   "version": "3.12.4"
  }
 },
 "nbformat": 4,
 "nbformat_minor": 2
}
